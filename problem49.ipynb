{
 "cells": [
  {
   "cell_type": "code",
   "execution_count": 4,
   "metadata": {},
   "outputs": [
    {
     "name": "stdout",
     "output_type": "stream",
     "text": [
      "It took 0.006517648696899414 seconds.\n"
     ]
    }
   ],
   "source": [
    "import math\n",
    "import time\n",
    "start = time.time()\n",
    "\n",
    "def PrimeGenerator(n):\n",
    "    primes = [2]\n",
    "    primeCandidate = 3\n",
    "    \n",
    "    # Search for primes till we reach maxInput\n",
    "    while primeCandidate < n:\n",
    "        # The limit for checking is the square root of the prime candidate\n",
    "        testLimit = math.ceil(math.sqrt(primeCandidate))\n",
    "        \n",
    "        # Check if the prime is divisable by all previous primes\n",
    "        check = True\n",
    "        for prime in primes:\n",
    "            # Make sure that the check stops if we reach the limit for testing\n",
    "            if prime <= testLimit:\n",
    "                if primeCandidate%prime == 0:\n",
    "                    check = False\n",
    "            else: \n",
    "                break\n",
    "                \n",
    "        if check:\n",
    "            primes.append(primeCandidate)\n",
    "        primeCandidate +=2\n",
    "    return primes\n",
    "\n",
    "def PrimeTest(primeCandidate, primeList):\n",
    "    # The limit for checking is the square root of the prime candidate\n",
    "    testLimit = math.ceil(math.sqrt(primeCandidate))\n",
    "\n",
    "    if primeCandidate == 1:\n",
    "        return False\n",
    "    elif primeCandidate == 2:\n",
    "        return True\n",
    "    else: \n",
    "        # Check if the prime is divisable by all previous primes\n",
    "        check = True\n",
    "        for prime in primeList:\n",
    "            # Make sure that the check stops if we reach the limit for testing\n",
    "            if prime <= testLimit:\n",
    "                if primeCandidate%prime == 0:\n",
    "                    check = False\n",
    "            else: \n",
    "                break\n",
    "\n",
    "        if check:\n",
    "            return True\n",
    "        else:\n",
    "            return False\n",
    "\n",
    "# Generate first 1 million primes\n",
    "primes = PrimeGenerator(10000)\n",
    "\n",
    "print('It took', time.time()-start, 'seconds.')"
   ]
  },
  {
   "cell_type": "code",
   "execution_count": 75,
   "metadata": {},
   "outputs": [
    {
     "name": "stdout",
     "output_type": "stream",
     "text": [
      "1487 [1847, 4817, 4871, 7481, 7841, 8147, 8741] [360, 3330, 3384, 5994, 6354, 6660, 7254]\n",
      "2969 [2699, 6299, 9629] [-270, 3330, 6660]\n",
      "8147 [1487, 1847, 4817, 4871, 7481, 7841, 8741] [-6660, -6300, -3330, -3276, -666, -306, 594]\n",
      "9629 [2699, 2969, 6299] [-6930, -6660, -3330]\n"
     ]
    }
   ],
   "source": [
    "fourDigitPrimes = [prime for prime in primes if prime > 1000]\n",
    "    \n",
    "def PermutationFinder( num, checkNums):\n",
    "    permutations = []\n",
    "    sortedNum = ''.join(sorted(str(num)))\n",
    "    for checkNum in checkNums:\n",
    "        if sortedNum == ''.join(sorted(str(checkNum))):\n",
    "            if num != checkNum:\n",
    "                permutations.append(checkNum)\n",
    "                \n",
    "    return permutations\n",
    "\n",
    "def SumCheck( differences ):\n",
    "    for diff in differences:\n",
    "        test = [i/diff for i in differences]\n",
    "        for t in test:\n",
    "            if t ==2:    \n",
    "                return True\n",
    "            \n",
    "    return False\n",
    "        \n",
    "\n",
    "PermutationFinder(1487, fourDigitPrimes)\n",
    "\n",
    "for prime in fourDigitPrimes:\n",
    "    permutations = PermutationFinder(prime, fourDigitPrimes)\n",
    "    difference = [permutation - prime for permutation in permutations]\n",
    "    if len(difference) > 1:\n",
    "        if SumCheck(difference):\n",
    "            print(prime, permutations, difference)\n",
    "    "
   ]
  },
  {
   "cell_type": "code",
   "execution_count": 70,
   "metadata": {},
   "outputs": [
    {
     "data": {
      "text/plain": [
       "False"
      ]
     },
     "execution_count": 70,
     "metadata": {},
     "output_type": "execute_result"
    }
   ],
   "source": [
    "296962999629"
   ]
  },
  {
   "cell_type": "code",
   "execution_count": null,
   "metadata": {},
   "outputs": [],
   "source": []
  }
 ],
 "metadata": {
  "kernelspec": {
   "display_name": "Python 3",
   "language": "python",
   "name": "python3"
  },
  "language_info": {
   "codemirror_mode": {
    "name": "ipython",
    "version": 3
   },
   "file_extension": ".py",
   "mimetype": "text/x-python",
   "name": "python",
   "nbconvert_exporter": "python",
   "pygments_lexer": "ipython3",
   "version": "3.6.4"
  }
 },
 "nbformat": 4,
 "nbformat_minor": 2
}
