{
 "cells": [
  {
   "cell_type": "code",
   "execution_count": 61,
   "metadata": {},
   "outputs": [
    {
     "name": "stdout",
     "output_type": "stream",
     "text": [
      "It took 91.4404821395874 seconds.\n"
     ]
    }
   ],
   "source": [
    "import math\n",
    "import time\n",
    "start = time.time()\n",
    "\n",
    "def PrimeGenerator(n):\n",
    "    primes = [2]\n",
    "    primeCandidate = 3\n",
    "    \n",
    "    # Search for primes till we reach maxInput\n",
    "    while primeCandidate < n:\n",
    "        # The limit for checking is the square root of the prime candidate\n",
    "        testLimit = math.ceil(math.sqrt(primeCandidate))\n",
    "        \n",
    "        # Check if the prime is divisable by all previous primes\n",
    "        check = True\n",
    "        for prime in primes:\n",
    "            # Make sure that the check stops if we reach the limit for testing\n",
    "            if prime <= testLimit:\n",
    "                if primeCandidate%prime == 0:\n",
    "                    check = False\n",
    "            else: \n",
    "                break\n",
    "                \n",
    "        if check:\n",
    "            primes.append(primeCandidate)\n",
    "        primeCandidate +=2\n",
    "    return primes\n",
    "\n",
    "\n",
    "# Generate first 10 million primes\n",
    "primes = PrimeGenerator(10000000)\n",
    "\n",
    "print('It took', time.time()-start, 'seconds.')"
   ]
  },
  {
   "cell_type": "code",
   "execution_count": 108,
   "metadata": {},
   "outputs": [],
   "source": [
    "import math\n",
    "def PrimeCheck(primeCandidate, primeList):\n",
    "    if primeCandidate < 2:\n",
    "        return False\n",
    "    else:\n",
    "        # The limit for checking is the square root of the prime candidate\n",
    "        testLimit = math.ceil(math.sqrt(primeCandidate))\n",
    "\n",
    "        # Check if the prime is divisable by all previous primes\n",
    "        check = True\n",
    "        for prime in primeList:\n",
    "            # Make sure that the check stops if we reach the limit for testing\n",
    "            if prime <= testLimit:\n",
    "                if primeCandidate%prime == 0:\n",
    "                    check = False\n",
    "            else: \n",
    "                break\n",
    "        return check"
   ]
  },
  {
   "cell_type": "code",
   "execution_count": 119,
   "metadata": {},
   "outputs": [
    {
     "name": "stdout",
     "output_type": "stream",
     "text": [
      "{'a': -999, 'b': -1000, 'numPrimes': 1}\n",
      "{'a': -999, 'b': 3, 'numPrimes': 2}\n",
      "{'a': -995, 'b': 997, 'numPrimes': 3}\n",
      "{'a': -499, 'b': 997, 'numPrimes': 4}\n",
      "{'a': -325, 'b': 977, 'numPrimes': 5}\n",
      "{'a': -245, 'b': 977, 'numPrimes': 6}\n",
      "{'a': -197, 'b': 983, 'numPrimes': 7}\n",
      "{'a': -163, 'b': 983, 'numPrimes': 8}\n",
      "{'a': -131, 'b': 941, 'numPrimes': 9}\n",
      "{'a': -121, 'b': 947, 'numPrimes': 10}\n",
      "{'a': -105, 'b': 967, 'numPrimes': 12}\n",
      "{'a': -61, 'b': 971, 'numPrimes': 72}\n"
     ]
    }
   ],
   "source": [
    "def EulerRelation(n, a, b):\n",
    "    return n**2+a*n+b\n",
    "\n",
    "maxPrimeCount = 0\n",
    "longPrimes = []\n",
    "for a in range(-999,1000):\n",
    "    for b in range(-1000,1001):\n",
    "        check = True\n",
    "        primeCount = 0\n",
    "        for i in range(1000):\n",
    "            if check:\n",
    "                testPrime = EulerRelation(i,a,b)\n",
    "                check = check and PrimeCheck(testPrime, primes)\n",
    "                primeCount +=1\n",
    "            else:\n",
    "                break\n",
    "                \n",
    "        if primeCount > maxPrimeCount:\n",
    "            maxPrimeCount = primeCount\n",
    "            longPrimes.append({'a':a,'b':b,'numPrimes':primeCount})\n",
    "\n",
    "for longPrime in longPrimes:\n",
    "    print(longPrime)\n",
    "    \n",
    "    "
   ]
  },
  {
   "cell_type": "code",
   "execution_count": 120,
   "metadata": {},
   "outputs": [
    {
     "data": {
      "text/plain": [
       "-59231"
      ]
     },
     "execution_count": 120,
     "metadata": {},
     "output_type": "execute_result"
    }
   ],
   "source": [
    "-61*971"
   ]
  },
  {
   "cell_type": "code",
   "execution_count": null,
   "metadata": {},
   "outputs": [],
   "source": []
  }
 ],
 "metadata": {
  "kernelspec": {
   "display_name": "Python 3",
   "language": "python",
   "name": "python3"
  },
  "language_info": {
   "codemirror_mode": {
    "name": "ipython",
    "version": 3
   },
   "file_extension": ".py",
   "mimetype": "text/x-python",
   "name": "python",
   "nbconvert_exporter": "python",
   "pygments_lexer": "ipython3",
   "version": "3.6.4"
  }
 },
 "nbformat": 4,
 "nbformat_minor": 2
}
