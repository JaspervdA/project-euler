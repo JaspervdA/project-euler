{
 "cells": [
  {
   "cell_type": "code",
   "execution_count": 232,
   "metadata": {},
   "outputs": [],
   "source": [
    "def RecurringDigits( number ):   \n",
    "    numStr = str(number)\n",
    "    allDigits = numStr[2:]\n",
    "    \n",
    "    for i in range(10,2000):\n",
    "        for j in range(max(10,i)):\n",
    "            if allDigits[0+j:i+j] == allDigits[i+j:2*i+j]:\n",
    "                return allDigits[0+j:i+j]\n",
    "                break\n",
    "        else:\n",
    "            continue\n",
    "        break\n",
    "        \n",
    "#     allDigits[]\n",
    "#     digits = []\n",
    "#     checkDict = {}\n",
    "    \n",
    "#     for d in allDigits:\n",
    "#         digits.append(d)\n",
    "#         checkDict[d] = True\n",
    "        \n",
    "        \n",
    "#         print(d)\n",
    "#         if checkDict[d]:\n",
    "            \n",
    "#             break\n",
    "#         else:\n",
    "            \n",
    "        "
   ]
  },
  {
   "cell_type": "code",
   "execution_count": 233,
   "metadata": {},
   "outputs": [
    {
     "name": "stdout",
     "output_type": "stream",
     "text": [
      "982 983\n"
     ]
    }
   ],
   "source": [
    "maxLen = 0 \n",
    "digit = 0\n",
    "\n",
    "for i in range(1,1001):\n",
    "    a = RecurringDigits(Decimal(1)/Decimal(i))\n",
    "    if a:\n",
    "        if len(a) > maxLen:\n",
    "            digit = i\n",
    "            maxLen = len(a)\n",
    "    \n",
    "print(maxLen, digit)\n",
    "    "
   ]
  },
  {
   "cell_type": "markdown",
   "metadata": {},
   "source": [
    "1/7"
   ]
  },
  {
   "cell_type": "code",
   "execution_count": 226,
   "metadata": {},
   "outputs": [],
   "source": [
    "from decimal import *\n",
    "getcontext().prec = 3000"
   ]
  },
  {
   "cell_type": "code",
   "execution_count": 234,
   "metadata": {},
   "outputs": [
    {
     "data": {
      "text/plain": [
       "'0010172939979654120040691759918616480162767039674465920651068158697863682604272634791454730417090539165818921668362156663275686673448626653102746693794506612410986775178026449643947100712105798575788402848423194303153611393692777212614445574771108850457782299084435401831129196337741607324516785350966429298067141403865717192268565615462868769074262461851475076297049847405900305188199389623601220752797558494404883011190233977619532044760935910478128179043743641912512716174974567650050864699898270600203458799593082400813835198372329603255340793489318413021363173957273652085452695829094608341810783316378433367243133265513733468972533062054933875890132248219735503560528992878942014242115971515768056968463886063072227873855544252288911495422177009155645981688708036622583926754832146490335707019328585961342828077314343845371312309257375381485249237029501525940996948118006103763987792472024415055951169888097660223804679552390640895218718209562563580874872838250254323499491353'"
      ]
     },
     "execution_count": 234,
     "metadata": {},
     "output_type": "execute_result"
    }
   ],
   "source": [
    "RecurringDigits(Decimal(1)/Decimal(983))"
   ]
  },
  {
   "cell_type": "code",
   "execution_count": null,
   "metadata": {},
   "outputs": [],
   "source": []
  }
 ],
 "metadata": {
  "kernelspec": {
   "display_name": "Python 3",
   "language": "python",
   "name": "python3"
  },
  "language_info": {
   "codemirror_mode": {
    "name": "ipython",
    "version": 3
   },
   "file_extension": ".py",
   "mimetype": "text/x-python",
   "name": "python",
   "nbconvert_exporter": "python",
   "pygments_lexer": "ipython3",
   "version": "3.6.4"
  }
 },
 "nbformat": 4,
 "nbformat_minor": 2
}
