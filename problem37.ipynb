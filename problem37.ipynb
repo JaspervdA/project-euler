{
 "cells": [
  {
   "cell_type": "code",
   "execution_count": 63,
   "metadata": {},
   "outputs": [
    {
     "name": "stdout",
     "output_type": "stream",
     "text": [
      "It took 3.4465749263763428 seconds.\n"
     ]
    }
   ],
   "source": [
    "import math\n",
    "import time\n",
    "start = time.time()\n",
    "\n",
    "def PrimeGenerator(n):\n",
    "    primes = [2]\n",
    "    primeCandidate = 3\n",
    "    \n",
    "    # Search for primes till we reach maxInput\n",
    "    while primeCandidate < n:\n",
    "        # The limit for checking is the square root of the prime candidate\n",
    "        testLimit = math.ceil(math.sqrt(primeCandidate))\n",
    "        \n",
    "        # Check if the prime is divisable by all previous primes\n",
    "        check = True\n",
    "        for prime in primes:\n",
    "            # Make sure that the check stops if we reach the limit for testing\n",
    "            if prime <= testLimit:\n",
    "                if primeCandidate%prime == 0:\n",
    "                    check = False\n",
    "            else: \n",
    "                break\n",
    "                \n",
    "        if check:\n",
    "            primes.append(primeCandidate)\n",
    "        primeCandidate +=2\n",
    "    return primes\n",
    "\n",
    "def PrimeTest(primeCandidate, primeList):\n",
    "    # The limit for checking is the square root of the prime candidate\n",
    "    testLimit = math.ceil(math.sqrt(primeCandidate))\n",
    "\n",
    "    if primeCandidate == 1:\n",
    "        return False\n",
    "    elif primeCandidate == 2:\n",
    "        return True\n",
    "    else: \n",
    "        # Check if the prime is divisable by all previous primes\n",
    "        check = True\n",
    "        for prime in primeList:\n",
    "            # Make sure that the check stops if we reach the limit for testing\n",
    "            if prime <= testLimit:\n",
    "                if primeCandidate%prime == 0:\n",
    "                    check = False\n",
    "            else: \n",
    "                break\n",
    "\n",
    "        if check:\n",
    "            return True\n",
    "        else:\n",
    "            return False\n",
    "\n",
    "# Generate first 10 million primes\n",
    "primes = PrimeGenerator(1000000)\n",
    "\n",
    "print('It took', time.time()-start, 'seconds.')"
   ]
  },
  {
   "cell_type": "code",
   "execution_count": 64,
   "metadata": {},
   "outputs": [],
   "source": [
    "def TruncatableTest( num, primeList ):\n",
    "    numStr = str(num)\n",
    "    numLen = len(numStr)\n",
    "    check = True\n",
    "    \n",
    "    for i in range(numLen):\n",
    "        leftTruncate = numStr[i:]\n",
    "        rightTruncate = numStr[:i]\n",
    "        \n",
    "        if not rightTruncate:\n",
    "            rightTruncate = leftTruncate\n",
    "            \n",
    "        if not (PrimeTest(int(leftTruncate), primes) and PrimeTest(int(rightTruncate), primes)):\n",
    "            check = False\n",
    "            \n",
    "    if check:\n",
    "        return True\n",
    "    else:\n",
    "        return False\n",
    "        \n",
    "\n",
    "        "
   ]
  },
  {
   "cell_type": "code",
   "execution_count": 67,
   "metadata": {},
   "outputs": [
    {
     "name": "stdout",
     "output_type": "stream",
     "text": [
      "[23, 37, 53, 73, 313, 317, 373, 797, 3137, 3797, 739397]\n",
      "11\n",
      "748317\n"
     ]
    }
   ],
   "source": [
    "truncableNumbers = []\n",
    "smallPrimes = [prime for prime in primes if (prime <= 1000000 and prime >7)]\n",
    "\n",
    "for i in smallPrimes:\n",
    "    if TruncatableTest(i, primes):\n",
    "        truncableNumbers.append(i)\n",
    "\n",
    "print(truncableNumbers)\n",
    "print(len(truncableNumbers))\n",
    "print(sum(truncableNumbers))\n",
    "\n",
    "\n"
   ]
  },
  {
   "cell_type": "code",
   "execution_count": 62,
   "metadata": {},
   "outputs": [
    {
     "data": {
      "text/plain": [
       "True"
      ]
     },
     "execution_count": 62,
     "metadata": {},
     "output_type": "execute_result"
    }
   ],
   "source": []
  },
  {
   "cell_type": "code",
   "execution_count": null,
   "metadata": {},
   "outputs": [],
   "source": []
  }
 ],
 "metadata": {
  "kernelspec": {
   "display_name": "Python 3",
   "language": "python",
   "name": "python3"
  },
  "language_info": {
   "codemirror_mode": {
    "name": "ipython",
    "version": 3
   },
   "file_extension": ".py",
   "mimetype": "text/x-python",
   "name": "python",
   "nbconvert_exporter": "python",
   "pygments_lexer": "ipython3",
   "version": "3.6.4"
  }
 },
 "nbformat": 4,
 "nbformat_minor": 2
}
