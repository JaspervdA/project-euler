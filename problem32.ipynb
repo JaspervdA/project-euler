{
 "cells": [
  {
   "cell_type": "code",
   "execution_count": 20,
   "metadata": {},
   "outputs": [],
   "source": [
    "def PandigitalCheck(a,b):\n",
    "    c=a*b\n",
    "    digitString = '%i%i%i'  %(a,b,c)\n",
    "    digitString = ''.join(sorted(digitString))\n",
    "    \n",
    "    if digitString == '123456789':\n",
    "        return True\n",
    "    else:\n",
    "        return False\n",
    "    "
   ]
  },
  {
   "cell_type": "code",
   "execution_count": 28,
   "metadata": {},
   "outputs": [
    {
     "name": "stdout",
     "output_type": "stream",
     "text": [
      "{'a': 12, 'b': 483, 'c': 5796}\n",
      "{'a': 18, 'b': 297, 'c': 5346}\n",
      "{'a': 27, 'b': 198, 'c': 5346}\n",
      "{'a': 28, 'b': 157, 'c': 4396}\n",
      "{'a': 39, 'b': 186, 'c': 7254}\n",
      "{'a': 42, 'b': 138, 'c': 5796}\n",
      "{'a': 48, 'b': 159, 'c': 7632}\n",
      "{'a': 138, 'b': 42, 'c': 5796}\n",
      "{'a': 157, 'b': 28, 'c': 4396}\n",
      "{'a': 159, 'b': 48, 'c': 7632}\n",
      "{'a': 186, 'b': 39, 'c': 7254}\n",
      "{'a': 198, 'b': 27, 'c': 5346}\n",
      "{'a': 297, 'b': 18, 'c': 5346}\n",
      "{'a': 483, 'b': 12, 'c': 5796}\n",
      "{'a': 1738, 'b': 4, 'c': 6952}\n",
      "{'a': 1963, 'b': 4, 'c': 7852}\n",
      "[5796, 5346, 4396, 7254, 7632, 6952, 7852]\n",
      "45228\n"
     ]
    }
   ],
   "source": [
    "pandigitalNumbers = []\n",
    "products= []\n",
    "\n",
    "for a in range(3000):\n",
    "    for b in range(1000):\n",
    "        if PandigitalCheck(a,b):\n",
    "            c = a*b\n",
    "            pandigitalNumbers.append({'a':a,'b':b,'c':c})\n",
    "            if c not in products:\n",
    "                products.append(c)\n",
    "\n",
    "for i in pandigitalNumbers:\n",
    "    print(i)\n",
    "    \n",
    "print(products)    \n",
    "print(sum(products))\n",
    "\n"
   ]
  },
  {
   "cell_type": "code",
   "execution_count": null,
   "metadata": {},
   "outputs": [],
   "source": []
  }
 ],
 "metadata": {
  "kernelspec": {
   "display_name": "Python 3",
   "language": "python",
   "name": "python3"
  },
  "language_info": {
   "codemirror_mode": {
    "name": "ipython",
    "version": 3
   },
   "file_extension": ".py",
   "mimetype": "text/x-python",
   "name": "python",
   "nbconvert_exporter": "python",
   "pygments_lexer": "ipython3",
   "version": "3.6.4"
  }
 },
 "nbformat": 4,
 "nbformat_minor": 2
}
