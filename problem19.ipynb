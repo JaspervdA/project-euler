{
 "cells": [
  {
   "cell_type": "code",
   "execution_count": 1,
   "metadata": {},
   "outputs": [],
   "source": [
    "# 1 Jan 1900 was a Monday.\n",
    "# Thirty days has September,\n",
    "# April, June and November.\n",
    "# All the rest have thirty-one,\n",
    "# Saving February alone,\n",
    "# Which has twenty-eight, rain or shine.\n",
    "# And on leap years, twenty-nine.\n",
    "# A leap year occurs on any year evenly divisible by 4, but not on a century unless it is divisible by 400.\n",
    "# How many Sundays fell on the first of the month during the twentieth century (1 Jan 1901 to 31 Dec 2000)?"
   ]
  },
  {
   "cell_type": "code",
   "execution_count": 2,
   "metadata": {},
   "outputs": [],
   "source": [
    "days = range(7)"
   ]
  },
  {
   "cell_type": "code",
   "execution_count": 33,
   "metadata": {},
   "outputs": [
    {
     "name": "stdout",
     "output_type": "stream",
     "text": [
      "170\n"
     ]
    }
   ],
   "source": [
    "numDays = 100*365+25\n",
    "dayCount = 0\n",
    "monthCount = 0 \n",
    "yearCount = 1900\n",
    "allDays = []\n",
    "\n",
    "for d in range(0,numDays):\n",
    "    # dayType will be 0 for monday, 1 for tuesday, ... 6 for sunday\n",
    "    dayType = d%7\n",
    "    \n",
    "    \n",
    "    # days in January, March, May, July, August, October and December\n",
    "    if monthCount in [0,2,4,6,7,9]:\n",
    "        if dayCount == 31:\n",
    "            dayCount = 0\n",
    "            monthCount +=1\n",
    "            \n",
    "    #days in February\n",
    "    if monthCount == 1:\n",
    "        if (yearCount%4) == 0 and (yearCount%400) != 0:\n",
    "            if dayCount == 29:\n",
    "                dayCount = 0\n",
    "                monthCount +=1\n",
    "        else: \n",
    "            if dayCount == 28:\n",
    "                dayCount = 0\n",
    "                monthCount +=1\n",
    "        \n",
    "    \n",
    "    # days in April, June, September, November\n",
    "    if monthCount in [3, 5, 8, 10]:\n",
    "        if dayCount == 30:\n",
    "            dayCount = 0\n",
    "            monthCount +=1\n",
    "            \n",
    "    if monthCount == 11:\n",
    "        if dayCount == 31:\n",
    "            dayCount = 0\n",
    "            monthCount = 0\n",
    "            yearCount +=1\n",
    "    \n",
    "    \n",
    "    \n",
    "    allDays.append({'dayofMonth':dayCount, 'month':monthCount, 'dayType': dayType, 'year':yearCount})\n",
    "    \n",
    "    dayCount += 1\n",
    "    \n",
    "    \n",
    "    \n",
    "#allDays = {'dayOfMonth':1, 'month':'january', 'day':'monday'}\n",
    "sundayCount = 0\n",
    "for d in allDays:\n",
    "    if d['dayofMonth']==0 and d['dayType']==6:\n",
    "       sundayCount += 1\n",
    "    \n",
    "print(sundayCount)\n",
    "#print(allDays)\n",
    "#print(yearCount)"
   ]
  },
  {
   "cell_type": "code",
   "execution_count": 15,
   "metadata": {},
   "outputs": [
    {
     "name": "stdout",
     "output_type": "stream",
     "text": [
      "true\n"
     ]
    }
   ],
   "source": [
    "a = {'test':2, 'b':3}\n",
    "if a['test'] ==2 and a['b']==3:\n",
    "    print('true')"
   ]
  },
  {
   "cell_type": "code",
   "execution_count": null,
   "metadata": {},
   "outputs": [],
   "source": []
  }
 ],
 "metadata": {
  "kernelspec": {
   "display_name": "Python 3",
   "language": "python",
   "name": "python3"
  },
  "language_info": {
   "codemirror_mode": {
    "name": "ipython",
    "version": 3
   },
   "file_extension": ".py",
   "mimetype": "text/x-python",
   "name": "python",
   "nbconvert_exporter": "python",
   "pygments_lexer": "ipython3",
   "version": "3.6.4"
  }
 },
 "nbformat": 4,
 "nbformat_minor": 2
}
