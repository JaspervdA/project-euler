{
 "cells": [
  {
   "cell_type": "code",
   "execution_count": 20,
   "metadata": {},
   "outputs": [
    {
     "name": "stdout",
     "output_type": "stream",
     "text": [
      "16 64\n",
      "19 95\n",
      "26 65\n",
      "49 98\n"
     ]
    }
   ],
   "source": [
    "def CuriousFraction(a,b):\n",
    "    a0 = str(a)[0]\n",
    "    a1 = str(a)[1]\n",
    "    b0 = str(b)[0]\n",
    "    b1 = str(b)[1]\n",
    "    \n",
    "    # if numberator or denumerator are two identical digits it is never a curious fraction\n",
    "    if a0 == a1:\n",
    "        return False\n",
    "    elif b0 == b1:\n",
    "        return False\n",
    "    \n",
    "    #Below are the two cases which we are interested in \n",
    "    elif a0 == b1:\n",
    "        if int(b0) == 0:\n",
    "              return False\n",
    "        if a/b == int(a1)/int(b0):\n",
    "            return True\n",
    "        else: \n",
    "            return False\n",
    "        \n",
    "    elif a1 == b0:\n",
    "        if int(b1) == 0:\n",
    "              return False\n",
    "        elif a/b == int(a0)/int(b1):\n",
    "            return True\n",
    "        else: \n",
    "            return False\n",
    "        \n",
    "    else:\n",
    "        return False\n",
    "    \n",
    "    \n",
    "\n",
    "for a in range(10,100):\n",
    "    for b in range(10,100):\n",
    "        if b > a:\n",
    "            if CuriousFraction(a,b):\n",
    "                print(a,b)  \n",
    "    "
   ]
  },
  {
   "cell_type": "code",
   "execution_count": 24,
   "metadata": {},
   "outputs": [
    {
     "data": {
      "text/plain": [
       "0.01"
      ]
     },
     "execution_count": 24,
     "metadata": {},
     "output_type": "execute_result"
    }
   ],
   "source": [
    "1/4*1/5*2/5*1/2"
   ]
  },
  {
   "cell_type": "code",
   "execution_count": null,
   "metadata": {},
   "outputs": [],
   "source": []
  }
 ],
 "metadata": {
  "kernelspec": {
   "display_name": "Python 3",
   "language": "python",
   "name": "python3"
  },
  "language_info": {
   "codemirror_mode": {
    "name": "ipython",
    "version": 3
   },
   "file_extension": ".py",
   "mimetype": "text/x-python",
   "name": "python",
   "nbconvert_exporter": "python",
   "pygments_lexer": "ipython3",
   "version": "3.6.4"
  }
 },
 "nbformat": 4,
 "nbformat_minor": 2
}
