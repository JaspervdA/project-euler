{
 "cells": [
  {
   "cell_type": "code",
   "execution_count": 91,
   "metadata": {},
   "outputs": [],
   "source": [
    "def PalindromeTest( number ):\n",
    "    strNum = str(number)\n",
    "    lenNum = len(strNum)\n",
    "    if lenNum == 1:\n",
    "        return True\n",
    "        \n",
    "    if lenNum%2 == 0:\n",
    "        halfLen = int(lenNum/2)\n",
    "        if strNum[:(halfLen-1):-1] == strNum[:halfLen]:\n",
    "            return True\n",
    "        else:\n",
    "            return False\n",
    "    else:\n",
    "        halfLen = int(lenNum/2)\n",
    "        if strNum[:(halfLen-1):-1] == strNum[:(halfLen+1)]:\n",
    "            return True\n",
    "        else:\n",
    "            return False"
   ]
  },
  {
   "cell_type": "markdown",
   "metadata": {},
   "source": [
    "\n"
   ]
  },
  {
   "cell_type": "code",
   "execution_count": 95,
   "metadata": {},
   "outputs": [
    {
     "name": "stdout",
     "output_type": "stream",
     "text": [
      "1 1\n",
      "3 11\n",
      "5 101\n",
      "7 111\n",
      "9 1001\n",
      "33 100001\n",
      "99 1100011\n",
      "313 100111001\n",
      "585 1001001001\n",
      "717 1011001101\n",
      "7447 1110100010111\n",
      "9009 10001100110001\n",
      "15351 11101111110111\n",
      "32223 111110111011111\n",
      "39993 1001110000111001\n",
      "53235 1100111111110011\n",
      "53835 1101001001001011\n",
      "73737 10010000000001001\n",
      "585585 10001110111101110001\n",
      "872187\n"
     ]
    }
   ],
   "source": [
    "palindromeSum = 0\n",
    "for num in range(1,1000000):\n",
    "    binaryNum = \"{0:b}\".format(num)\n",
    "    if PalindromeTest(num) and PalindromeTest(binaryNum):\n",
    "        print(num, binaryNum)\n",
    "        palindromeSum += num\n",
    "        \n",
    "print(palindromeSum)"
   ]
  },
  {
   "cell_type": "code",
   "execution_count": null,
   "metadata": {},
   "outputs": [],
   "source": []
  },
  {
   "cell_type": "code",
   "execution_count": null,
   "metadata": {},
   "outputs": [],
   "source": []
  }
 ],
 "metadata": {
  "kernelspec": {
   "display_name": "Python 3",
   "language": "python",
   "name": "python3"
  },
  "language_info": {
   "codemirror_mode": {
    "name": "ipython",
    "version": 3
   },
   "file_extension": ".py",
   "mimetype": "text/x-python",
   "name": "python",
   "nbconvert_exporter": "python",
   "pygments_lexer": "ipython3",
   "version": "3.6.4"
  }
 },
 "nbformat": 4,
 "nbformat_minor": 2
}
