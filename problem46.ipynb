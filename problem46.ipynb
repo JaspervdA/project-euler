{
 "cells": [
  {
   "cell_type": "code",
   "execution_count": 2,
   "metadata": {},
   "outputs": [
    {
     "name": "stdout",
     "output_type": "stream",
     "text": [
      "It took 3.387542486190796 seconds.\n"
     ]
    }
   ],
   "source": [
    "import math\n",
    "import time\n",
    "start = time.time()\n",
    "\n",
    "def PrimeGenerator(n):\n",
    "    primes = [2]\n",
    "    primeCandidate = 3\n",
    "    \n",
    "    # Search for primes till we reach maxInput\n",
    "    while primeCandidate < n:\n",
    "        # The limit for checking is the square root of the prime candidate\n",
    "        testLimit = math.ceil(math.sqrt(primeCandidate))\n",
    "        \n",
    "        # Check if the prime is divisable by all previous primes\n",
    "        check = True\n",
    "        for prime in primes:\n",
    "            # Make sure that the check stops if we reach the limit for testing\n",
    "            if prime <= testLimit:\n",
    "                if primeCandidate%prime == 0:\n",
    "                    check = False\n",
    "            else: \n",
    "                break\n",
    "                \n",
    "        if check:\n",
    "            primes.append(primeCandidate)\n",
    "        primeCandidate +=2\n",
    "    return primes\n",
    "\n",
    "def PrimeTest(primeCandidate, primeList):\n",
    "    # The limit for checking is the square root of the prime candidate\n",
    "    testLimit = math.ceil(math.sqrt(primeCandidate))\n",
    "\n",
    "    if primeCandidate == 1:\n",
    "        return False\n",
    "    elif primeCandidate == 2:\n",
    "        return True\n",
    "    else: \n",
    "        # Check if the prime is divisable by all previous primes\n",
    "        check = True\n",
    "        for prime in primeList:\n",
    "            # Make sure that the check stops if we reach the limit for testing\n",
    "            if prime <= testLimit:\n",
    "                if primeCandidate%prime == 0:\n",
    "                    check = False\n",
    "            else: \n",
    "                break\n",
    "\n",
    "        if check:\n",
    "            return True\n",
    "        else:\n",
    "            return False\n",
    "\n",
    "# Generate first 10 million primes\n",
    "primes = PrimeGenerator(1000000)\n",
    "\n",
    "print('It took', time.time()-start, 'seconds.')"
   ]
  },
  {
   "cell_type": "code",
   "execution_count": 25,
   "metadata": {},
   "outputs": [],
   "source": [
    "oddCompositeNumbers = []\n",
    "for i in range(9,10000,2):\n",
    "    if not PrimeTest(i, primes):\n",
    "        oddCompositeNumbers.append(i)\n",
    "\n",
    "        "
   ]
  },
  {
   "cell_type": "code",
   "execution_count": 31,
   "metadata": {},
   "outputs": [
    {
     "name": "stdout",
     "output_type": "stream",
     "text": [
      "False 5777\n"
     ]
    }
   ],
   "source": [
    "import math\n",
    "\n",
    "for compNum in oddCompositeNumbers:\n",
    "    maxNum = math.ceil(math.sqrt(compNum/2))\n",
    "    check = False\n",
    "    for i in range(1,maxNum):\n",
    "        check = check or PrimeTest(compNum-2*i**2, primes)\n",
    "#         if PrimeTest(compNum-2*i**2, primes):\n",
    "#             print(compNum, i, 'true')\n",
    "#             break\n",
    "#         else:\n",
    "#             print(compNum, 'false')\n",
    "    if not check:\n",
    "        print(check, compNum)\n",
    "        break"
   ]
  },
  {
   "cell_type": "code",
   "execution_count": null,
   "metadata": {},
   "outputs": [],
   "source": []
  },
  {
   "cell_type": "code",
   "execution_count": null,
   "metadata": {},
   "outputs": [],
   "source": []
  }
 ],
 "metadata": {
  "kernelspec": {
   "display_name": "Python 3",
   "language": "python",
   "name": "python3"
  },
  "language_info": {
   "codemirror_mode": {
    "name": "ipython",
    "version": 3
   },
   "file_extension": ".py",
   "mimetype": "text/x-python",
   "name": "python",
   "nbconvert_exporter": "python",
   "pygments_lexer": "ipython3",
   "version": "3.6.4"
  }
 },
 "nbformat": 4,
 "nbformat_minor": 2
}
