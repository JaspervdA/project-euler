{
 "cells": [
  {
   "cell_type": "code",
   "execution_count": 18,
   "metadata": {},
   "outputs": [
    {
     "name": "stdout",
     "output_type": "stream",
     "text": [
      "[   11    17    19 ... 28115 28119 28121]\n"
     ]
    }
   ],
   "source": [
    "import math\n",
    "import numpy as np\n",
    "\n",
    "def Divisors(n):\n",
    "    maxNum = int(math.ceil(math.sqrt(n)))\n",
    "    divisors = []\n",
    "    \n",
    "    # if input number is perfect square the square root is one divisor\n",
    "    if maxNum ** maxNum is n:\n",
    "            divisors.append(maxNum)\n",
    "    \n",
    "    if n is not 1:\n",
    "        divisors.append(1)\n",
    "    # if input number is divisable in the range below square root\n",
    "    # then there are 2 divisors\n",
    "    for i in range(2, maxNum):\n",
    "        if n%i==0:\n",
    "            divisors.append(i)\n",
    "            divisors.append(int(n/i))\n",
    "    \n",
    "    return sorted(divisors)\n",
    "\n",
    "\n",
    "abundantDivisors = []\n",
    "for i in range(1,28123):\n",
    "    sumDivisors = sum(Divisors(i))\n",
    "    if sumDivisors > i:\n",
    "        abundantDivisors.append(i)\n",
    "\n",
    "abundantDivisors = np.array(abundantDivisors)\n",
    "        \n",
    "for i in range(1, 28123):\n",
    "    numsMinOne = abundantDivisors-i\n",
    "    check = True\n",
    "    for j in numsMinOne:\n",
    "        if j in abundantDivisors:\n",
    "            check = False\n",
    "    \n",
    "    if check = False:\n",
    "    "
   ]
  },
  {
   "cell_type": "code",
   "execution_count": 6,
   "metadata": {},
   "outputs": [
    {
     "data": {
      "text/plain": [
       "[1, 2, 4, 7, 14, 28]"
      ]
     },
     "execution_count": 6,
     "metadata": {},
     "output_type": "execute_result"
    }
   ],
   "source": [
    "Divisors(28)"
   ]
  },
  {
   "cell_type": "code",
   "execution_count": null,
   "metadata": {},
   "outputs": [],
   "source": []
  }
 ],
 "metadata": {
  "kernelspec": {
   "display_name": "Python 3",
   "language": "python",
   "name": "python3"
  },
  "language_info": {
   "codemirror_mode": {
    "name": "ipython",
    "version": 3
   },
   "file_extension": ".py",
   "mimetype": "text/x-python",
   "name": "python",
   "nbconvert_exporter": "python",
   "pygments_lexer": "ipython3",
   "version": "3.6.4"
  }
 },
 "nbformat": 4,
 "nbformat_minor": 2
}
