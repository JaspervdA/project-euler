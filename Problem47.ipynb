{
 "cells": [
  {
   "cell_type": "code",
   "execution_count": 1,
   "metadata": {},
   "outputs": [
    {
     "name": "stdout",
     "output_type": "stream",
     "text": [
      "It took 3.5572309494018555 seconds.\n"
     ]
    }
   ],
   "source": [
    "import math\n",
    "import time\n",
    "start = time.time()\n",
    "\n",
    "def PrimeGenerator(n):\n",
    "    primes = [2]\n",
    "    primeCandidate = 3\n",
    "    \n",
    "    # Search for primes till we reach maxInput\n",
    "    while primeCandidate < n:\n",
    "        # The limit for checking is the square root of the prime candidate\n",
    "        testLimit = math.ceil(math.sqrt(primeCandidate))\n",
    "        \n",
    "        # Check if the prime is divisable by all previous primes\n",
    "        check = True\n",
    "        for prime in primes:\n",
    "            # Make sure that the check stops if we reach the limit for testing\n",
    "            if prime <= testLimit:\n",
    "                if primeCandidate%prime == 0:\n",
    "                    check = False\n",
    "            else: \n",
    "                break\n",
    "                \n",
    "        if check:\n",
    "            primes.append(primeCandidate)\n",
    "        primeCandidate +=2\n",
    "    return primes\n",
    "\n",
    "def PrimeTest(primeCandidate, primeList):\n",
    "    # The limit for checking is the square root of the prime candidate\n",
    "    testLimit = math.ceil(math.sqrt(primeCandidate))\n",
    "\n",
    "    if primeCandidate == 1:\n",
    "        return False\n",
    "    elif primeCandidate == 2:\n",
    "        return True\n",
    "    else: \n",
    "        # Check if the prime is divisable by all previous primes\n",
    "        check = True\n",
    "        for prime in primeList:\n",
    "            # Make sure that the check stops if we reach the limit for testing\n",
    "            if prime <= testLimit:\n",
    "                if primeCandidate%prime == 0:\n",
    "                    check = False\n",
    "            else: \n",
    "                break\n",
    "\n",
    "        if check:\n",
    "            return True\n",
    "        else:\n",
    "            return False\n",
    "\n",
    "# Generate first 1 million primes\n",
    "primes = PrimeGenerator(1000000)\n",
    "\n",
    "print('It took', time.time()-start, 'seconds.')"
   ]
  },
  {
   "cell_type": "code",
   "execution_count": 34,
   "metadata": {},
   "outputs": [],
   "source": [
    "def PrimeComposition( number, primeList ):\n",
    "    newNumber = number\n",
    "    primeComposition = {}\n",
    "    \n",
    "    for prime in primeList:\n",
    "        if newNumber ==1:\n",
    "            return primeComposition\n",
    "        elif newNumber%prime == 0:\n",
    "            for i in range(1,1000):\n",
    "                if newNumber%(prime**i)==0:\n",
    "                    continue\n",
    "                else:\n",
    "                    primeComposition[str(prime)] = (i-1)\n",
    "                    newNumber = newNumber / (prime**(i-1))\n",
    "                    break\n",
    "            \n",
    "        elif newNumber%prime < 0:\n",
    "            continue\n",
    "    "
   ]
  },
  {
   "cell_type": "code",
   "execution_count": 38,
   "metadata": {},
   "outputs": [
    {
     "name": "stdout",
     "output_type": "stream",
     "text": [
      "[134043, 134044, 134045, 134046]\n"
     ]
    }
   ],
   "source": [
    "consecutiveLength = 4\n",
    "count = 0\n",
    "consecutiveNumbers = []\n",
    "\n",
    "for i in range(2,1000000):\n",
    "    comp = PrimeComposition(i, primes)\n",
    "    if len(comp) == consecutiveLength:\n",
    "        count +=1\n",
    "        consecutiveNumbers.append(i)\n",
    "    else:\n",
    "        count = 0\n",
    "        consecutiveNumbers = []\n",
    "    \n",
    "    if count == consecutiveLength:\n",
    "        break\n",
    "        \n",
    "print(consecutiveNumbers)\n",
    "    \n",
    "\n",
    "    "
   ]
  },
  {
   "cell_type": "code",
   "execution_count": null,
   "metadata": {},
   "outputs": [],
   "source": []
  },
  {
   "cell_type": "code",
   "execution_count": null,
   "metadata": {},
   "outputs": [],
   "source": []
  }
 ],
 "metadata": {
  "kernelspec": {
   "display_name": "Python 3",
   "language": "python",
   "name": "python3"
  },
  "language_info": {
   "codemirror_mode": {
    "name": "ipython",
    "version": 3
   },
   "file_extension": ".py",
   "mimetype": "text/x-python",
   "name": "python",
   "nbconvert_exporter": "python",
   "pygments_lexer": "ipython3",
   "version": "3.6.4"
  }
 },
 "nbformat": 4,
 "nbformat_minor": 2
}
