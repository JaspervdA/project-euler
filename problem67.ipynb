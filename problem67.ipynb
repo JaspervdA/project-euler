{
 "cells": [
  {
   "cell_type": "code",
   "execution_count": 38,
   "metadata": {
    "scrolled": true
   },
   "outputs": [
    {
     "name": "stdout",
     "output_type": "stream",
     "text": [
      "7273\n"
     ]
    }
   ],
   "source": [
    "results = []\n",
    "\n",
    "with open('p067_triangle.txt') as inputfile:\n",
    "    for line in inputfile:\n",
    "        results.append(line.strip().split(' '))\n",
    "\n",
    "rows = []\n",
    "for line in results:\n",
    "    newLine = []\n",
    "    for item in line:\n",
    "        newLine.append(int(item))\n",
    "    rows.append(newLine)\n",
    "\n",
    "sums = [0]\n",
    "\n",
    "for rowNum, row in enumerate(rows):\n",
    "    rowLength = len(row)\n",
    "    newSums = [[] for i in range(rowNum+1)]\n",
    "    for idx in range(rowLength):\n",
    "        if idx is 0:\n",
    "            newSums[idx] = sums[idx]+ row[idx]\n",
    "        elif idx is rowNum:\n",
    "            newSums[idx] = sums[idx-1]+row[idx]\n",
    "        else:\n",
    "            newSums[idx] = max(sums[idx-1],sums[idx]) + row[idx]\n",
    "  \n",
    "    sums = newSums\n",
    "\n",
    "\n",
    "print(max(sums))"
   ]
  },
  {
   "cell_type": "code",
   "execution_count": null,
   "metadata": {},
   "outputs": [],
   "source": []
  },
  {
   "cell_type": "code",
   "execution_count": null,
   "metadata": {},
   "outputs": [],
   "source": []
  }
 ],
 "metadata": {
  "kernelspec": {
   "display_name": "Python 3",
   "language": "python",
   "name": "python3"
  },
  "language_info": {
   "codemirror_mode": {
    "name": "ipython",
    "version": 3
   },
   "file_extension": ".py",
   "mimetype": "text/x-python",
   "name": "python",
   "nbconvert_exporter": "python",
   "pygments_lexer": "ipython3",
   "version": "3.6.4"
  }
 },
 "nbformat": 4,
 "nbformat_minor": 2
}
