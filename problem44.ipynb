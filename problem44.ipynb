{
 "cells": [
  {
   "cell_type": "code",
   "execution_count": 49,
   "metadata": {},
   "outputs": [],
   "source": [
    "import math\n",
    "\n",
    "def PentagonalNumber( n ):\n",
    "    return int(n*(3*n-1)/2)\n",
    "\n",
    "def PentagonalCheck( X ):\n",
    "    n = (1+math.sqrt(1+4*3*2*X))/6\n",
    "    if n%1 == 0:\n",
    "        return True\n",
    "    else:\n",
    "        return False\n",
    "    "
   ]
  },
  {
   "cell_type": "code",
   "execution_count": 48,
   "metadata": {},
   "outputs": [
    {
     "name": "stdout",
     "output_type": "stream",
     "text": [
      "7042750 1560090\n",
      "5482660\n"
     ]
    }
   ],
   "source": [
    "pentagonalNumbers = []\n",
    "for i in range(0,10000):\n",
    "    pentagonalNumbers.append(PentagonalNumber(i+1))\n",
    "    \n",
    "\n",
    "for Pj in pentagonalNumbers:\n",
    "    for Pk in pentagonalNumbers:\n",
    "        if Pj > Pk:\n",
    "            if PentagonalCheck(Pj+Pk):\n",
    "                if PentagonalCheck(Pj-Pk):\n",
    "                    print(Pj, Pk)\n",
    "                    print(Pj-Pk)"
   ]
  },
  {
   "cell_type": "code",
   "execution_count": null,
   "metadata": {},
   "outputs": [],
   "source": []
  }
 ],
 "metadata": {
  "kernelspec": {
   "display_name": "Python 3",
   "language": "python",
   "name": "python3"
  },
  "language_info": {
   "codemirror_mode": {
    "name": "ipython",
    "version": 3
   },
   "file_extension": ".py",
   "mimetype": "text/x-python",
   "name": "python",
   "nbconvert_exporter": "python",
   "pygments_lexer": "ipython3",
   "version": "3.6.4"
  }
 },
 "nbformat": 4,
 "nbformat_minor": 2
}
