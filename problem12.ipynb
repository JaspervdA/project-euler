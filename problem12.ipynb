{
 "cells": [
  {
   "cell_type": "code",
   "execution_count": 65,
   "metadata": {},
   "outputs": [],
   "source": [
    "import math\n",
    "\n",
    "def TriangularNumber(n):\n",
    "    output = 0\n",
    "    for i in range(1,n+1):\n",
    "        output += i\n",
    "    return output\n",
    "\n",
    "def NumDivisors(n):\n",
    "    count = 0\n",
    "    maxNum = int(math.ceil(math.sqrt(n)))\n",
    "    \n",
    "    # if input number is perfect square the square root is one divisor\n",
    "    if maxNum ** maxNum is n:\n",
    "                count += 1\n",
    "    \n",
    "    check = True\n",
    "    \n",
    "    # if input number is divisable in the range below square root\n",
    "    # then there are 2 divisors\n",
    "    if check:        \n",
    "        for i in range(1, maxNum):\n",
    "            if n%i==0:\n",
    "                count += 2\n",
    "    return int(count)\n",
    "        "
   ]
  },
  {
   "cell_type": "code",
   "execution_count": 66,
   "metadata": {},
   "outputs": [
    {
     "name": "stdout",
     "output_type": "stream",
     "text": [
      "12375 76576500\n"
     ]
    }
   ],
   "source": [
    "\n",
    "length = 0\n",
    "triangularNumber = 0\n",
    "\n",
    "for i in range(1,1000000):\n",
    "    triangularNumber += i\n",
    "    numDivisors = NumDivisors(triangularNumber)\n",
    "    \n",
    "    if numDivisors > 500:\n",
    "        print(i, triangularNumber)\n",
    "        break"
   ]
  },
  {
   "cell_type": "code",
   "execution_count": 56,
   "metadata": {},
   "outputs": [
    {
     "name": "stdout",
     "output_type": "stream",
     "text": [
      "76576500\n"
     ]
    }
   ],
   "source": [
    "print(TriangularNumber(12375))"
   ]
  },
  {
   "cell_type": "code",
   "execution_count": null,
   "metadata": {},
   "outputs": [],
   "source": []
  }
 ],
 "metadata": {
  "kernelspec": {
   "display_name": "Python 3",
   "language": "python",
   "name": "python3"
  },
  "language_info": {
   "codemirror_mode": {
    "name": "ipython",
    "version": 3
   },
   "file_extension": ".py",
   "mimetype": "text/x-python",
   "name": "python",
   "nbconvert_exporter": "python",
   "pygments_lexer": "ipython3",
   "version": "3.6.4"
  }
 },
 "nbformat": 4,
 "nbformat_minor": 2
}
