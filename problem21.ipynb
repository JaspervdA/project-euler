{
 "cells": [
  {
   "cell_type": "code",
   "execution_count": 58,
   "metadata": {},
   "outputs": [],
   "source": [
    "import math\n",
    "\n",
    "def Divisors(num):\n",
    "    divisors = []\n",
    "    maxDivisor = int(math.ceil(math.sqrt(num)))\n",
    "    if maxDivisor**2 is num:\n",
    "        divisors.append(maxDivisor)\n",
    "    \n",
    "    if num is not 1:\n",
    "        divisors.append(1)\n",
    "    for i in range(2,maxDivisor):\n",
    "        if num%i is 0:\n",
    "            divisors.append(i)\n",
    "            divisors.append(int(num/i))\n",
    "        \n",
    "    return divisors\n",
    "\n",
    "\n",
    "def AmicableNumbers(num):\n",
    "    a = sum(Divisors(num))\n",
    "    b = sum(Divisors(a))\n",
    "    \n",
    "    \n",
    "    if b == num and a != b:       \n",
    "        return a, b \n",
    "    else: \n",
    "        return 0,0\n",
    "    "
   ]
  },
  {
   "cell_type": "code",
   "execution_count": 62,
   "metadata": {},
   "outputs": [
    {
     "name": "stdout",
     "output_type": "stream",
     "text": [
      "31626\n",
      "[[284, 220], [1210, 1184], [2924, 2620], [5564, 5020], [6368, 6232]]\n"
     ]
    }
   ],
   "source": [
    "amicableNumbers = []\n",
    "amicableSum = 0\n",
    "\n",
    "for i in range(2,10000):\n",
    "    a,b = AmicableNumbers(i)\n",
    "    \n",
    "    if a is not b:\n",
    "        if [a,b] not in amicableNumbers and [b,a] not in amicableNumbers:\n",
    "            amicableNumbers.append([a,b])\n",
    "            amicableSum += a+b\n",
    "            \n",
    "# amicableNumbersGood = []\n",
    "# for i in amicableNumbers:\n",
    "#     if i[0]<10000:\n",
    "#         amicableNumbersGood.append(i[0])\n",
    "#     if i[1]<10000:\n",
    "#         amicableNumbersGood.append(i[1])\n",
    "    \n",
    "\n",
    "print(amicableSum)\n",
    "print(amicableNumbers)"
   ]
  },
  {
   "cell_type": "code",
   "execution_count": 61,
   "metadata": {},
   "outputs": [
    {
     "data": {
      "text/plain": [
       "(220, 284)"
      ]
     },
     "execution_count": 61,
     "metadata": {},
     "output_type": "execute_result"
    }
   ],
   "source": [
    "AmicableNumbers(284)"
   ]
  },
  {
   "cell_type": "code",
   "execution_count": null,
   "metadata": {},
   "outputs": [],
   "source": []
  }
 ],
 "metadata": {
  "kernelspec": {
   "display_name": "Python 3",
   "language": "python",
   "name": "python3"
  },
  "language_info": {
   "codemirror_mode": {
    "name": "ipython",
    "version": 3
   },
   "file_extension": ".py",
   "mimetype": "text/x-python",
   "name": "python",
   "nbconvert_exporter": "python",
   "pygments_lexer": "ipython3",
   "version": "3.6.4"
  }
 },
 "nbformat": 4,
 "nbformat_minor": 2
}
