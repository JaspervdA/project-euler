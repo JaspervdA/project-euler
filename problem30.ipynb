{
 "cells": [
  {
   "cell_type": "code",
   "execution_count": 7,
   "metadata": {},
   "outputs": [],
   "source": [
    "def DigitPowerSum(number, power):\n",
    "    digitSum = 0\n",
    "    for digit in str(number):\n",
    "        digitSum += int(digit)**power\n",
    "    return digitSum"
   ]
  },
  {
   "cell_type": "code",
   "execution_count": 21,
   "metadata": {},
   "outputs": [
    {
     "name": "stdout",
     "output_type": "stream",
     "text": [
      "[0, 1, 4150, 4151, 54748, 92727, 93084, 194979]\n"
     ]
    }
   ],
   "source": [
    "powerNumbers = []\n",
    "for i in range(10000000):\n",
    "    if DigitPowerSum(i, 5) == i:\n",
    "        powerNumbers.append(i)\n",
    "        \n",
    "print(powerNumbers)"
   ]
  },
  {
   "cell_type": "code",
   "execution_count": 24,
   "metadata": {},
   "outputs": [
    {
     "name": "stdout",
     "output_type": "stream",
     "text": [
      "443839\n"
     ]
    }
   ],
   "source": [
    "print(sum(powerNumbers)-1)"
   ]
  },
  {
   "cell_type": "code",
   "execution_count": null,
   "metadata": {},
   "outputs": [],
   "source": []
  }
 ],
 "metadata": {
  "kernelspec": {
   "display_name": "Python 3",
   "language": "python",
   "name": "python3"
  },
  "language_info": {
   "codemirror_mode": {
    "name": "ipython",
    "version": 3
   },
   "file_extension": ".py",
   "mimetype": "text/x-python",
   "name": "python",
   "nbconvert_exporter": "python",
   "pygments_lexer": "ipython3",
   "version": "3.6.4"
  }
 },
 "nbformat": 4,
 "nbformat_minor": 2
}
