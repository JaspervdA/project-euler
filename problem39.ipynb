{
 "cells": [
  {
   "cell_type": "code",
   "execution_count": 58,
   "metadata": {},
   "outputs": [
    {
     "name": "stdout",
     "output_type": "stream",
     "text": [
      "840 8\n"
     ]
    }
   ],
   "source": [
    "import math\n",
    "from collections import Counter\n",
    "\n",
    "hist = Counter()\n",
    "    \n",
    "for a in range(1,1000):\n",
    "    for b in range(1,1000):\n",
    "        if b > a:\n",
    "            c = math.sqrt(a**2+b**2)\n",
    "            if (a+b+c) < 1000 and c%1 == 0:\n",
    "                c = int(c)\n",
    "#                 print(a,b,c, a+b+c)\n",
    "                hist[a+b+c] +=1\n",
    "            \n",
    "maxCount = 0\n",
    "maxP = 0\n",
    "for i in hist:\n",
    "    if hist[i] > maxCount:\n",
    "        maxCount =  hist[i]\n",
    "        maxP = i\n",
    "    \n",
    "print(maxP, maxCount)"
   ]
  },
  {
   "cell_type": "code",
   "execution_count": null,
   "metadata": {},
   "outputs": [],
   "source": [
    "\n",
    "\n"
   ]
  },
  {
   "cell_type": "code",
   "execution_count": null,
   "metadata": {},
   "outputs": [],
   "source": []
  }
 ],
 "metadata": {
  "kernelspec": {
   "display_name": "Python 3",
   "language": "python",
   "name": "python3"
  },
  "language_info": {
   "codemirror_mode": {
    "name": "ipython",
    "version": 3
   },
   "file_extension": ".py",
   "mimetype": "text/x-python",
   "name": "python",
   "nbconvert_exporter": "python",
   "pygments_lexer": "ipython3",
   "version": "3.6.4"
  }
 },
 "nbformat": 4,
 "nbformat_minor": 2
}
