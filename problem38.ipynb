{
 "cells": [
  {
   "cell_type": "code",
   "execution_count": 9,
   "metadata": {},
   "outputs": [],
   "source": [
    "def PandigitalCheck(numStr):\n",
    "    digitString = ''.join(sorted(numStr))\n",
    "    \n",
    "    if digitString == '123456789':\n",
    "        return True\n",
    "    else:\n",
    "        return False"
   ]
  },
  {
   "cell_type": "code",
   "execution_count": 21,
   "metadata": {},
   "outputs": [
    {
     "data": {
      "text/plain": [
       "932718654"
      ]
     },
     "execution_count": 21,
     "metadata": {},
     "output_type": "execute_result"
    }
   ],
   "source": [
    "pandigitalNums = []\n",
    "for i in range(1,100000):\n",
    "    digitString2 = '%i%i'  %(i*1,i*2)\n",
    "    digitString3 = '%i%i%i'  %(i*1,i*2,i*3)\n",
    "    digitString4 = '%i%i%i%i'  %(i*1,i*2,i*3,i*4)\n",
    "    digitString5 = '%i%i%i%i%i'  %(i*1,i*2,i*3,i*4,i*5)\n",
    "    digitString6 = '%i%i%i%i%i%i'  %(i*1,i*2,i*3,i*4,i*5,i*6)\n",
    "    if PandigitalCheck(digitString2):\n",
    "        pandigitalNums.append(int(digitString2))\n",
    "    elif PandigitalCheck(digitString3):\n",
    "        pandigitalNums.append(int(digitString3))\n",
    "    elif PandigitalCheck(digitString4):\n",
    "        pandigitalNums.append(int(digitString4))\n",
    "    elif PandigitalCheck(digitString5):\n",
    "        pandigitalNums.append(int(digitString5))\n",
    "    elif PandigitalCheck(digitString6):\n",
    "        pandigitalNums.append(int(digitString6))\n",
    "        \n",
    "max(pandigitalNums)\n",
    "    "
   ]
  },
  {
   "cell_type": "code",
   "execution_count": null,
   "metadata": {},
   "outputs": [],
   "source": []
  },
  {
   "cell_type": "code",
   "execution_count": null,
   "metadata": {},
   "outputs": [],
   "source": []
  }
 ],
 "metadata": {
  "kernelspec": {
   "display_name": "Python 3",
   "language": "python",
   "name": "python3"
  },
  "language_info": {
   "codemirror_mode": {
    "name": "ipython",
    "version": 3
   },
   "file_extension": ".py",
   "mimetype": "text/x-python",
   "name": "python",
   "nbconvert_exporter": "python",
   "pygments_lexer": "ipython3",
   "version": "3.6.4"
  }
 },
 "nbformat": 4,
 "nbformat_minor": 2
}
