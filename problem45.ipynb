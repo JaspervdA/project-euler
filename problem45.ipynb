{
 "cells": [
  {
   "cell_type": "code",
   "execution_count": 19,
   "metadata": {},
   "outputs": [],
   "source": [
    "import math\n",
    "\n",
    "def TriangleNumber( n ):\n",
    "    return int(n*(n+1)/2)\n",
    "\n",
    "def HexagonalCheck( X ):\n",
    "    n = (1+math.sqrt(1+4*2*X))/4\n",
    "    if n%1 == 0:\n",
    "        return True\n",
    "    else:\n",
    "        return False\n",
    "\n",
    "def PentagonalCheck( X ):\n",
    "    n = (1+math.sqrt(1+4*3*2*X))/6\n",
    "    if n%1 == 0:\n",
    "        return True\n",
    "    else:\n",
    "        return False"
   ]
  },
  {
   "cell_type": "code",
   "execution_count": 23,
   "metadata": {},
   "outputs": [
    {
     "name": "stdout",
     "output_type": "stream",
     "text": [
      "true 1533776805\n"
     ]
    }
   ],
   "source": [
    "triangleNumbers = [TriangleNumber(i) for i in range(286,100000)]\n",
    "# print(triangleNumbers)\n",
    "\n",
    "for triangle in triangleNumbers:\n",
    "    if HexagonalCheck(triangle) and PentagonalCheck(triangle):\n",
    "        print('true', triangle)\n",
    "        break\n",
    "    "
   ]
  },
  {
   "cell_type": "code",
   "execution_count": null,
   "metadata": {},
   "outputs": [],
   "source": []
  }
 ],
 "metadata": {
  "kernelspec": {
   "display_name": "Python 3",
   "language": "python",
   "name": "python3"
  },
  "language_info": {
   "codemirror_mode": {
    "name": "ipython",
    "version": 3
   },
   "file_extension": ".py",
   "mimetype": "text/x-python",
   "name": "python",
   "nbconvert_exporter": "python",
   "pygments_lexer": "ipython3",
   "version": "3.6.4"
  }
 },
 "nbformat": 4,
 "nbformat_minor": 2
}
