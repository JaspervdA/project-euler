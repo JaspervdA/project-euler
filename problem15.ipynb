{
 "cells": [
  {
   "cell_type": "code",
   "execution_count": 2,
   "metadata": {},
   "outputs": [],
   "source": [
    "def Move(position, gridSize, count):    \n",
    "    newPositions = []    \n",
    "    if position[0] is gridSize or position[1] is gridSize:\n",
    "        count += 1\n",
    "        \n",
    "    else:\n",
    "        newPositions.append([position[0]+1, position[1]])\n",
    "        newPositions.append([position[0], position[1]+1])\n",
    "        \n",
    "    return newPositions,count\n",
    "        "
   ]
  },
  {
   "cell_type": "code",
   "execution_count": 19,
   "metadata": {},
   "outputs": [
    {
     "name": "stdout",
     "output_type": "stream",
     "text": [
      "Step 0\n",
      "[[0, 0]]\n",
      "[[1, 0], [0, 1]]\n",
      "Step 1\n",
      "[[1, 0], [0, 1]]\n",
      "[[2, 0], [1, 1], [1, 1], [0, 2]]\n",
      "Step 2\n",
      "[[2, 0], [1, 1], [1, 1], [0, 2]]\n",
      "[[2, 1], [1, 2], [2, 1], [1, 2]]\n",
      "Step 3\n",
      "[[2, 1], [1, 2], [2, 1], [1, 2]]\n",
      "[]\n",
      "6\n"
     ]
    }
   ],
   "source": [
    "positions = []\n",
    "count = 0\n",
    "step = 0\n",
    "positions = [[0,0]]\n",
    "gridSize = 2\n",
    "\n",
    "while step < gridSize*2:\n",
    "    newPositions = []\n",
    "    print('Step %i'% step)\n",
    "\n",
    "    for position in positions:\n",
    "        newPosition, count = Move(position, gridSize, count)\n",
    "        if newPosition:\n",
    "            for p in newPosition:\n",
    "                newPositions.append(p)\n",
    "    \n",
    "    print(positions)\n",
    "    print(newPositions)\n",
    "    \n",
    "    positions = newPositions\n",
    "    \n",
    "    \n",
    "    step += 1\n",
    "print(count)"
   ]
  },
  {
   "cell_type": "code",
   "execution_count": 24,
   "metadata": {},
   "outputs": [
    {
     "data": {
      "text/plain": [
       "137846528820.0"
      ]
     },
     "execution_count": 24,
     "metadata": {},
     "output_type": "execute_result"
    }
   ],
   "source": [
    "import math\n",
    "\n",
    "math.factorial(40)/(math.factorial(20)*math.factorial(20))\n"
   ]
  },
  {
   "cell_type": "code",
   "execution_count": 118,
   "metadata": {},
   "outputs": [],
   "source": [
    "if 1 is 2 or 0 is 2:\n",
    "    print('true')"
   ]
  },
  {
   "cell_type": "code",
   "execution_count": null,
   "metadata": {},
   "outputs": [],
   "source": []
  }
 ],
 "metadata": {
  "kernelspec": {
   "display_name": "Python 3",
   "language": "python",
   "name": "python3"
  },
  "language_info": {
   "codemirror_mode": {
    "name": "ipython",
    "version": 3
   },
   "file_extension": ".py",
   "mimetype": "text/x-python",
   "name": "python",
   "nbconvert_exporter": "python",
   "pygments_lexer": "ipython3",
   "version": "3.6.4"
  }
 },
 "nbformat": 4,
 "nbformat_minor": 2
}
