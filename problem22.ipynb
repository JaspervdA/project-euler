{
 "cells": [
  {
   "cell_type": "code",
   "execution_count": 68,
   "metadata": {
    "scrolled": true
   },
   "outputs": [
    {
     "name": "stdout",
     "output_type": "stream",
     "text": [
      "871198282\n"
     ]
    }
   ],
   "source": [
    "results = []\n",
    "\n",
    "with open('p022_names.txt') as inputfile:\n",
    "    for line in inputfile:\n",
    "        results.append(line.strip().split(' '))\n",
    "\n",
    "alphabet = 'ABCDEFGHIJKLMNOPQRSTUVWXYZ'\n",
    "\n",
    "\n",
    "names=[]\n",
    "\n",
    "letterCount = 0\n",
    "name = \"\"\n",
    "alphabeticalValue = 0\n",
    "nameValue = 0\n",
    "\n",
    "results[0][0] += ','\n",
    "\n",
    "for i in results[0][0]:\n",
    "    if i ==',':\n",
    "        \n",
    "        names.append((name, nameValue, alphabeticalValue))\n",
    "        \n",
    "        letterCount = 0\n",
    "        name = \"\"\n",
    "        alphabeticalValue = 0\n",
    "        nameValue = 0\n",
    "    else:\n",
    "        for idx, l in enumerate(alphabet):\n",
    "            if l == i:\n",
    "                name += i\n",
    "                nameValue += idx+1\n",
    "                alphabeticalValue += (idx+1)*10**(2*(13-letterCount))\n",
    "                letterCount += 1\n",
    "             \n",
    "            \n",
    "            \n",
    "\n",
    "sortedNames = sorted(names, key=lambda student: student[2])   # sort by age\n",
    "\n",
    "nameSum = 0\n",
    "for count, i in enumerate(sortedNames):\n",
    "    nameSum += i[1]*(count+1)\n",
    "\n",
    "print(nameSum)\n"
   ]
  },
  {
   "cell_type": "code",
   "execution_count": null,
   "metadata": {},
   "outputs": [],
   "source": []
  }
 ],
 "metadata": {
  "kernelspec": {
   "display_name": "Python 3",
   "language": "python",
   "name": "python3"
  },
  "language_info": {
   "codemirror_mode": {
    "name": "ipython",
    "version": 3
   },
   "file_extension": ".py",
   "mimetype": "text/x-python",
   "name": "python",
   "nbconvert_exporter": "python",
   "pygments_lexer": "ipython3",
   "version": "3.6.4"
  }
 },
 "nbformat": 4,
 "nbformat_minor": 2
}
