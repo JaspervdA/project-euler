{
 "cells": [
  {
   "cell_type": "code",
   "execution_count": 1,
   "metadata": {},
   "outputs": [],
   "source": [
    "import itertools\n",
    "\n",
    "numbers = list(itertools.permutations([0,1,2,3,4,5,6,7,8,9]))"
   ]
  },
  {
   "cell_type": "code",
   "execution_count": 12,
   "metadata": {},
   "outputs": [],
   "source": [
    "def DivisableTest( numStr, divisableNum):\n",
    "    if int(numStr)%divisableNum == 0:\n",
    "        return True\n",
    "    else:\n",
    "        return False\n",
    "\n",
    "def PropertyTest( numStr ):\n",
    "    divisableNums = [2,3,5,7,11,13, 17]\n",
    "    check = True\n",
    "    for idx, divNum in enumerate(divisableNums):\n",
    "        testString = numStr[idx+1:idx+4]\n",
    "        if not DivisableTest(testString, divNum):\n",
    "            return False\n",
    "        \n",
    "    return check\n"
   ]
  },
  {
   "cell_type": "code",
   "execution_count": 15,
   "metadata": {},
   "outputs": [
    {
     "name": "stdout",
     "output_type": "stream",
     "text": [
      "16695334890\n"
     ]
    }
   ],
   "source": [
    "propertySum = 0\n",
    "\n",
    "for num in numbers:\n",
    "    numStr = ''.join(map(str,num))\n",
    "    if PropertyTest(numStr):\n",
    "        propertySum += int(numStr)\n",
    "    \n",
    "print(propertySum)"
   ]
  },
  {
   "cell_type": "code",
   "execution_count": null,
   "metadata": {},
   "outputs": [],
   "source": []
  },
  {
   "cell_type": "code",
   "execution_count": null,
   "metadata": {},
   "outputs": [],
   "source": []
  }
 ],
 "metadata": {
  "kernelspec": {
   "display_name": "Python 3",
   "language": "python",
   "name": "python3"
  },
  "language_info": {
   "codemirror_mode": {
    "name": "ipython",
    "version": 3
   },
   "file_extension": ".py",
   "mimetype": "text/x-python",
   "name": "python",
   "nbconvert_exporter": "python",
   "pygments_lexer": "ipython3",
   "version": "3.6.4"
  }
 },
 "nbformat": 4,
 "nbformat_minor": 2
}
