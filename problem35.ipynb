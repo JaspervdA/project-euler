{
 "cells": [
  {
   "cell_type": "code",
   "execution_count": 66,
   "metadata": {},
   "outputs": [
    {
     "name": "stdout",
     "output_type": "stream",
     "text": [
      "It took 3.4416263103485107 seconds.\n"
     ]
    }
   ],
   "source": [
    "import math\n",
    "import time\n",
    "start = time.time()\n",
    "\n",
    "def PrimeGenerator(n):\n",
    "    primes = [2]\n",
    "    primeCandidate = 3\n",
    "    \n",
    "    # Search for primes till we reach maxInput\n",
    "    while primeCandidate < n:\n",
    "        # The limit for checking is the square root of the prime candidate\n",
    "        testLimit = math.ceil(math.sqrt(primeCandidate))\n",
    "        \n",
    "        # Check if the prime is divisable by all previous primes\n",
    "        check = True\n",
    "        for prime in primes:\n",
    "            # Make sure that the check stops if we reach the limit for testing\n",
    "            if prime <= testLimit:\n",
    "                if primeCandidate%prime == 0:\n",
    "                    check = False\n",
    "            else: \n",
    "                break\n",
    "                \n",
    "        if check:\n",
    "            primes.append(primeCandidate)\n",
    "        primeCandidate +=2\n",
    "    return primes\n",
    "\n",
    "def PrimeTest(primeCandidate, primeList):\n",
    "    # The limit for checking is the square root of the prime candidate\n",
    "    testLimit = math.ceil(math.sqrt(primeCandidate))\n",
    "\n",
    "    if primeCandidate == 2:\n",
    "        return True\n",
    "    else: \n",
    "        # Check if the prime is divisable by all previous primes\n",
    "        check = True\n",
    "        for prime in primeList:\n",
    "            # Make sure that the check stops if we reach the limit for testing\n",
    "            if prime <= testLimit:\n",
    "                if primeCandidate%prime == 0:\n",
    "                    check = False\n",
    "            else: \n",
    "                break\n",
    "\n",
    "        if check:\n",
    "            return True\n",
    "        else:\n",
    "            return False\n",
    "\n",
    "# Generate first 10 million primes\n",
    "primes = PrimeGenerator(1000000)\n",
    "\n",
    "print('It took', time.time()-start, 'seconds.')"
   ]
  },
  {
   "cell_type": "code",
   "execution_count": 71,
   "metadata": {},
   "outputs": [],
   "source": [
    "import itertools as it\n",
    "\n",
    "def NumberRotations( number ): \n",
    "    numberString = str(number)\n",
    "    rotations = []\n",
    "    for i in range(len(numberString)):\n",
    "        rotationString = numberString[i:]+numberString[:i]\n",
    "        rotations.append( int(rotationString))\n",
    "    return rotations\n",
    "    \n",
    "def CircularPrimeTest( number, primeList ):\n",
    "    rotations = NumberRotations(number)\n",
    "    check = True\n",
    "    for rotation in rotations:        \n",
    "        if not PrimeTest(rotation, primeList):\n",
    "            check = False\n",
    "    \n",
    "    if check:\n",
    "        return number\n"
   ]
  },
  {
   "cell_type": "code",
   "execution_count": 75,
   "metadata": {},
   "outputs": [
    {
     "name": "stdout",
     "output_type": "stream",
     "text": [
      "[2, 3, 5, 7, 11, 13, 17, 31, 37, 71, 73, 79, 97, 113, 131, 197, 199, 311, 337, 373, 719, 733, 919, 971, 991, 1193, 1931, 3119, 3779, 7793, 7937, 9311, 9377, 11939, 19391, 19937, 37199, 39119, 71993, 91193, 93719, 93911, 99371, 193939, 199933, 319993, 331999, 391939, 393919, 919393, 933199, 939193, 939391, 993319, 999331]\n",
      "55\n"
     ]
    }
   ],
   "source": [
    "circularPrimes = []\n",
    "for prime in primes:\n",
    "    circularPrime = CircularPrimeTest( prime, primes)\n",
    "    if circularPrime:\n",
    "        circularPrimes.append( circularPrime)\n",
    "    \n",
    "print(circularPrimes)\n",
    "print(len(circularPrimes))"
   ]
  },
  {
   "cell_type": "code",
   "execution_count": 21,
   "metadata": {},
   "outputs": [
    {
     "name": "stdout",
     "output_type": "stream",
     "text": [
      "971\n"
     ]
    }
   ],
   "source": [
    "for "
   ]
  },
  {
   "cell_type": "code",
   "execution_count": null,
   "metadata": {},
   "outputs": [],
   "source": []
  }
 ],
 "metadata": {
  "kernelspec": {
   "display_name": "Python 3",
   "language": "python",
   "name": "python3"
  },
  "language_info": {
   "codemirror_mode": {
    "name": "ipython",
    "version": 3
   },
   "file_extension": ".py",
   "mimetype": "text/x-python",
   "name": "python",
   "nbconvert_exporter": "python",
   "pygments_lexer": "ipython3",
   "version": "3.6.4"
  }
 },
 "nbformat": 4,
 "nbformat_minor": 2
}
