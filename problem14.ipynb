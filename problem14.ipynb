{
 "cells": [
  {
   "cell_type": "code",
   "execution_count": 62,
   "metadata": {},
   "outputs": [],
   "source": [
    "def CollatzSequence(count, n):\n",
    "    count += 1\n",
    "    if n is 1:\n",
    "        return count, 1\n",
    "    elif n%2 is 0:\n",
    "        return CollatzSequence(count, int(n/2))\n",
    "    else:\n",
    "        return CollatzSequence(count, int(3*n+1))"
   ]
  },
  {
   "cell_type": "code",
   "execution_count": 66,
   "metadata": {},
   "outputs": [
    {
     "name": "stdout",
     "output_type": "stream",
     "text": [
      "525 837799\n"
     ]
    }
   ],
   "source": [
    "maxCount = 0\n",
    "\n",
    "for i in range(1,1000000):\n",
    "    count, n = CollatzSequence(0, i)\n",
    "    if count > maxCount:\n",
    "        largestChainNum = i\n",
    "    maxCount = max(maxCount,count)\n",
    "\n",
    "print(maxCount, largestChainNum)"
   ]
  },
  {
   "cell_type": "code",
   "execution_count": null,
   "metadata": {},
   "outputs": [],
   "source": []
  }
 ],
 "metadata": {
  "kernelspec": {
   "display_name": "Python 3",
   "language": "python",
   "name": "python3"
  },
  "language_info": {
   "codemirror_mode": {
    "name": "ipython",
    "version": 3
   },
   "file_extension": ".py",
   "mimetype": "text/x-python",
   "name": "python",
   "nbconvert_exporter": "python",
   "pygments_lexer": "ipython3",
   "version": "3.6.4"
  }
 },
 "nbformat": 4,
 "nbformat_minor": 2
}
